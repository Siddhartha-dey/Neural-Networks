{
 "cells": [
  {
   "cell_type": "code",
   "execution_count": 70,
   "id": "c0031d3d",
   "metadata": {},
   "outputs": [],
   "source": [
    "import numpy as np\n",
    "import numpy as np\n",
    "import pandas as pd\n",
    "from sklearn.model_selection import train_test_split\n",
    "import matplotlib.pyplot as plt\n",
    "import seaborn as sns"
   ]
  },
  {
   "cell_type": "code",
   "execution_count": 71,
   "id": "a2055027",
   "metadata": {},
   "outputs": [],
   "source": [
    "def step_function(sum):\n",
    "    if sum >= 0:\n",
    "        return 1\n",
    "    elif sum < 0:\n",
    "        return 0"
   ]
  },
  {
   "cell_type": "code",
   "execution_count": 72,
   "id": "b8be2706",
   "metadata": {},
   "outputs": [],
   "source": [
    "class Perceptron:\n",
    "    def __init__(self, input_dimension, epochs = 10, learning_rate = 0.01, train_set_size = 0):\n",
    "        self.train_set_size = train_set_size\n",
    "        self.weights = np.random.rand(input_dimension + 1)\n",
    "        self.epochs = epochs\n",
    "        self.learning_rate = learning_rate\n",
    "        self.error = [0]*epochs\n",
    "        self.dim = input_dimension\n",
    "\n",
    "    def predict(self, input):\n",
    "        input_with_bias = np.insert(input,0,1)\n",
    "        weighted_sum = np.dot(self.weights, input_with_bias)\n",
    "        activation = step_function(weighted_sum)\n",
    "        return activation\n",
    "\n",
    "    def train(self, training_set, true_labels):\n",
    "        \n",
    "       \n",
    "        for i in range(self.epochs):\n",
    "            error = 0\n",
    "            \n",
    "            for input, label in zip(training_set, true_labels):\n",
    "                predictor = self.predict(input)\n",
    "                input_with_bias = np.insert(input,0,1) #adding element 1 to the input vector at the beginning\n",
    "                \n",
    "                error += (label-predictor)**2\n",
    "                \n",
    "                print('for Epoch',i, 'error =', error/self.train_set_size)\n",
    "                self.weights += (label - predictor)*self.learning_rate*input_with_bias\n",
    "         \n",
    "            error /= self.train_set_size\n",
    "            self.error[i] = error/2\n",
    "    \n",
    "        return self.weights"
   ]
  },
  {
   "cell_type": "code",
   "execution_count": 73,
   "id": "fb86dec6",
   "metadata": {},
   "outputs": [],
   "source": [
    "def ConfusionMatrix(predicted_labels, test_labels):\n",
    "    mat = np.array([[0,0],[0,0]])\n",
    "    for i,j in zip(test_labels,predicted_labels):\n",
    "        if i == j:\n",
    "                mat[i][i] += 1\n",
    "        elif i != j:\n",
    "                mat[i][j] += 1\n",
    "    sns.heatmap(mat, annot=True,fmt='', cmap='Reds')\n",
    "    plt.title(\"Confusion Matrix\", fontsize=20)\n",
    "    plt.xlabel(\"Predicted\", fontsize=15)\n",
    "    plt.ylabel(\"Actual\", fontsize=15)\n",
    "    plt.show()\n",
    "    return mat"
   ]
  },
  {
   "cell_type": "code",
   "execution_count": 74,
   "id": "97e063bc",
   "metadata": {},
   "outputs": [],
   "source": [
    "from sklearn.datasets import load_iris\n",
    "iris = load_iris()"
   ]
  },
  {
   "cell_type": "code",
   "execution_count": 75,
   "id": "8bfb16ab",
   "metadata": {},
   "outputs": [
    {
     "name": "stdout",
     "output_type": "stream",
     "text": [
      "The data matrix:\n",
      " [[5.1 3.5 1.4 0.2]\n",
      " [4.9 3.  1.4 0.2]\n",
      " [4.7 3.2 1.3 0.2]\n",
      " [4.6 3.1 1.5 0.2]\n",
      " [5.  3.6 1.4 0.2]\n",
      " [5.4 3.9 1.7 0.4]\n",
      " [4.6 3.4 1.4 0.3]\n",
      " [5.  3.4 1.5 0.2]\n",
      " [4.4 2.9 1.4 0.2]\n",
      " [4.9 3.1 1.5 0.1]\n",
      " [5.4 3.7 1.5 0.2]\n",
      " [4.8 3.4 1.6 0.2]\n",
      " [4.8 3.  1.4 0.1]\n",
      " [4.3 3.  1.1 0.1]\n",
      " [5.8 4.  1.2 0.2]\n",
      " [5.7 4.4 1.5 0.4]\n",
      " [5.4 3.9 1.3 0.4]\n",
      " [5.1 3.5 1.4 0.3]\n",
      " [5.7 3.8 1.7 0.3]\n",
      " [5.1 3.8 1.5 0.3]\n",
      " [5.4 3.4 1.7 0.2]\n",
      " [5.1 3.7 1.5 0.4]\n",
      " [4.6 3.6 1.  0.2]\n",
      " [5.1 3.3 1.7 0.5]\n",
      " [4.8 3.4 1.9 0.2]\n",
      " [5.  3.  1.6 0.2]\n",
      " [5.  3.4 1.6 0.4]\n",
      " [5.2 3.5 1.5 0.2]\n",
      " [5.2 3.4 1.4 0.2]\n",
      " [4.7 3.2 1.6 0.2]\n",
      " [4.8 3.1 1.6 0.2]\n",
      " [5.4 3.4 1.5 0.4]\n",
      " [5.2 4.1 1.5 0.1]\n",
      " [5.5 4.2 1.4 0.2]\n",
      " [4.9 3.1 1.5 0.2]\n",
      " [5.  3.2 1.2 0.2]\n",
      " [5.5 3.5 1.3 0.2]\n",
      " [4.9 3.6 1.4 0.1]\n",
      " [4.4 3.  1.3 0.2]\n",
      " [5.1 3.4 1.5 0.2]\n",
      " [5.  3.5 1.3 0.3]\n",
      " [4.5 2.3 1.3 0.3]\n",
      " [4.4 3.2 1.3 0.2]\n",
      " [5.  3.5 1.6 0.6]\n",
      " [5.1 3.8 1.9 0.4]\n",
      " [4.8 3.  1.4 0.3]\n",
      " [5.1 3.8 1.6 0.2]\n",
      " [4.6 3.2 1.4 0.2]\n",
      " [5.3 3.7 1.5 0.2]\n",
      " [5.  3.3 1.4 0.2]\n",
      " [7.  3.2 4.7 1.4]\n",
      " [6.4 3.2 4.5 1.5]\n",
      " [6.9 3.1 4.9 1.5]\n",
      " [5.5 2.3 4.  1.3]\n",
      " [6.5 2.8 4.6 1.5]\n",
      " [5.7 2.8 4.5 1.3]\n",
      " [6.3 3.3 4.7 1.6]\n",
      " [4.9 2.4 3.3 1. ]\n",
      " [6.6 2.9 4.6 1.3]\n",
      " [5.2 2.7 3.9 1.4]\n",
      " [5.  2.  3.5 1. ]\n",
      " [5.9 3.  4.2 1.5]\n",
      " [6.  2.2 4.  1. ]\n",
      " [6.1 2.9 4.7 1.4]\n",
      " [5.6 2.9 3.6 1.3]\n",
      " [6.7 3.1 4.4 1.4]\n",
      " [5.6 3.  4.5 1.5]\n",
      " [5.8 2.7 4.1 1. ]\n",
      " [6.2 2.2 4.5 1.5]\n",
      " [5.6 2.5 3.9 1.1]\n",
      " [5.9 3.2 4.8 1.8]\n",
      " [6.1 2.8 4.  1.3]\n",
      " [6.3 2.5 4.9 1.5]\n",
      " [6.1 2.8 4.7 1.2]\n",
      " [6.4 2.9 4.3 1.3]\n",
      " [6.6 3.  4.4 1.4]\n",
      " [6.8 2.8 4.8 1.4]\n",
      " [6.7 3.  5.  1.7]\n",
      " [6.  2.9 4.5 1.5]\n",
      " [5.7 2.6 3.5 1. ]\n",
      " [5.5 2.4 3.8 1.1]\n",
      " [5.5 2.4 3.7 1. ]\n",
      " [5.8 2.7 3.9 1.2]\n",
      " [6.  2.7 5.1 1.6]\n",
      " [5.4 3.  4.5 1.5]\n",
      " [6.  3.4 4.5 1.6]\n",
      " [6.7 3.1 4.7 1.5]\n",
      " [6.3 2.3 4.4 1.3]\n",
      " [5.6 3.  4.1 1.3]\n",
      " [5.5 2.5 4.  1.3]\n",
      " [5.5 2.6 4.4 1.2]\n",
      " [6.1 3.  4.6 1.4]\n",
      " [5.8 2.6 4.  1.2]\n",
      " [5.  2.3 3.3 1. ]\n",
      " [5.6 2.7 4.2 1.3]\n",
      " [5.7 3.  4.2 1.2]\n",
      " [5.7 2.9 4.2 1.3]\n",
      " [6.2 2.9 4.3 1.3]\n",
      " [5.1 2.5 3.  1.1]\n",
      " [5.7 2.8 4.1 1.3]\n",
      " [6.3 3.3 6.  2.5]\n",
      " [5.8 2.7 5.1 1.9]\n",
      " [7.1 3.  5.9 2.1]\n",
      " [6.3 2.9 5.6 1.8]\n",
      " [6.5 3.  5.8 2.2]\n",
      " [7.6 3.  6.6 2.1]\n",
      " [4.9 2.5 4.5 1.7]\n",
      " [7.3 2.9 6.3 1.8]\n",
      " [6.7 2.5 5.8 1.8]\n",
      " [7.2 3.6 6.1 2.5]\n",
      " [6.5 3.2 5.1 2. ]\n",
      " [6.4 2.7 5.3 1.9]\n",
      " [6.8 3.  5.5 2.1]\n",
      " [5.7 2.5 5.  2. ]\n",
      " [5.8 2.8 5.1 2.4]\n",
      " [6.4 3.2 5.3 2.3]\n",
      " [6.5 3.  5.5 1.8]\n",
      " [7.7 3.8 6.7 2.2]\n",
      " [7.7 2.6 6.9 2.3]\n",
      " [6.  2.2 5.  1.5]\n",
      " [6.9 3.2 5.7 2.3]\n",
      " [5.6 2.8 4.9 2. ]\n",
      " [7.7 2.8 6.7 2. ]\n",
      " [6.3 2.7 4.9 1.8]\n",
      " [6.7 3.3 5.7 2.1]\n",
      " [7.2 3.2 6.  1.8]\n",
      " [6.2 2.8 4.8 1.8]\n",
      " [6.1 3.  4.9 1.8]\n",
      " [6.4 2.8 5.6 2.1]\n",
      " [7.2 3.  5.8 1.6]\n",
      " [7.4 2.8 6.1 1.9]\n",
      " [7.9 3.8 6.4 2. ]\n",
      " [6.4 2.8 5.6 2.2]\n",
      " [6.3 2.8 5.1 1.5]\n",
      " [6.1 2.6 5.6 1.4]\n",
      " [7.7 3.  6.1 2.3]\n",
      " [6.3 3.4 5.6 2.4]\n",
      " [6.4 3.1 5.5 1.8]\n",
      " [6.  3.  4.8 1.8]\n",
      " [6.9 3.1 5.4 2.1]\n",
      " [6.7 3.1 5.6 2.4]\n",
      " [6.9 3.1 5.1 2.3]\n",
      " [5.8 2.7 5.1 1.9]\n",
      " [6.8 3.2 5.9 2.3]\n",
      " [6.7 3.3 5.7 2.5]\n",
      " [6.7 3.  5.2 2.3]\n",
      " [6.3 2.5 5.  1.9]\n",
      " [6.5 3.  5.2 2. ]\n",
      " [6.2 3.4 5.4 2.3]\n",
      " [5.9 3.  5.1 1.8]]\n"
     ]
    }
   ],
   "source": [
    "print('The data matrix:\\n',iris['data'])"
   ]
  },
  {
   "cell_type": "code",
   "execution_count": 76,
   "id": "2f718248",
   "metadata": {},
   "outputs": [
    {
     "name": "stdout",
     "output_type": "stream",
     "text": [
      "The classification target:\n",
      " [0 0 0 0 0 0 0 0 0 0 0 0 0 0 0 0 0 0 0 0 0 0 0 0 0 0 0 0 0 0 0 0 0 0 0 0 0\n",
      " 0 0 0 0 0 0 0 0 0 0 0 0 0 1 1 1 1 1 1 1 1 1 1 1 1 1 1 1 1 1 1 1 1 1 1 1 1\n",
      " 1 1 1 1 1 1 1 1 1 1 1 1 1 1 1 1 1 1 1 1 1 1 1 1 1 1 2 2 2 2 2 2 2 2 2 2 2\n",
      " 2 2 2 2 2 2 2 2 2 2 2 2 2 2 2 2 2 2 2 2 2 2 2 2 2 2 2 2 2 2 2 2 2 2 2 2 2\n",
      " 2 2]\n"
     ]
    }
   ],
   "source": [
    "print('The classification target:\\n',iris['target'])"
   ]
  },
  {
   "cell_type": "code",
   "execution_count": 77,
   "id": "d67cba34",
   "metadata": {},
   "outputs": [
    {
     "name": "stdout",
     "output_type": "stream",
     "text": [
      "The names of the dataset columns:\n",
      " ['sepal length (cm)', 'sepal width (cm)', 'petal length (cm)', 'petal width (cm)']\n"
     ]
    }
   ],
   "source": [
    "print('The names of the dataset columns:\\n',iris['feature_names'])"
   ]
  },
  {
   "cell_type": "code",
   "execution_count": 78,
   "id": "78675886",
   "metadata": {},
   "outputs": [
    {
     "name": "stdout",
     "output_type": "stream",
     "text": [
      "The names of target classes:\n",
      " ['setosa' 'versicolor' 'virginica']\n"
     ]
    }
   ],
   "source": [
    "print('The names of target classes:\\n',iris['target_names'])"
   ]
  },
  {
   "cell_type": "code",
   "execution_count": 79,
   "id": "24102a41",
   "metadata": {},
   "outputs": [
    {
     "data": {
      "text/plain": [
       "Text(0.5, 1.0, 'Iris dataset visualized in 2 features')"
      ]
     },
     "execution_count": 79,
     "metadata": {},
     "output_type": "execute_result"
    },
    {
     "data": {
      "image/png": "[encoded data removed]",
      "text/plain": [
       "<Figure size 432x288 with 1 Axes>"
      ]
     },
     "metadata": {},
     "output_type": "display_data"
    }
   ],
   "source": [
    "x, y = iris.data, iris.target\n",
    "\n",
    "plt.ion()\n",
    "fig, ax = plt.subplots()\n",
    "\n",
    "temp_data = x[0 == y]\n",
    "ax.scatter(temp_data[:,0], temp_data[:,2], color = 'blue', marker='.')\n",
    "\n",
    "temp_data = x[1 == y]\n",
    "ax.scatter(temp_data[:,0], temp_data[:,2], color = 'red', marker='.')\n",
    "\n",
    "temp_data = x[2 == y]\n",
    "ax.scatter(temp_data[:,0], temp_data[:,2], color = 'green', marker='.')\n",
    "\n",
    "ax.set_xlabel(\"sepal length\", fontsize=15)\n",
    "ax.set_ylabel(\"petal length\", fontsize=15)\n",
    "ax.set_title('Iris dataset visualized in 2 features', fontsize=20)\n",
    "\n",
    "#ax.scatter(x[:,0], x[:,2], marker='.', c=y)"
   ]
  },
  {
   "cell_type": "code",
   "execution_count": 80,
   "id": "97537dfc",
   "metadata": {},
   "outputs": [],
   "source": [
    "X=[]\n",
    "Y=[]\n",
    "index=[]\n",
    "for i in range(len(y)):\n",
    "    if y[i] != 2:\n",
    "        Y.append(y[i])\n",
    "        X.append(x[i])\n",
    "        \n",
    "X=np.array(X)\n",
    "Y=np.array(Y)"
   ]
  },
  {
   "cell_type": "code",
   "execution_count": 81,
   "id": "f1ed6aa9",
   "metadata": {},
   "outputs": [
    {
     "data": {
      "text/plain": [
       "Text(0.5, 1.0, 'Iris dataset visualized in 2 features')"
      ]
     },
     "execution_count": 81,
     "metadata": {},
     "output_type": "execute_result"
    },
    {
     "data": {
      "image/png": "[encoded data removed]",
      "text/plain": [
       "<Figure size 432x288 with 1 Axes>"
      ]
     },
     "metadata": {},
     "output_type": "display_data"
    }
   ],
   "source": [
    "plt.ion()\n",
    "fig, ax = plt.subplots()\n",
    "\n",
    "temp_data = X[0 == Y]\n",
    "ax.scatter(temp_data[:,0], temp_data[:,2], color = 'blue', marker='.')\n",
    "\n",
    "temp_data = X[1 == Y]\n",
    "ax.scatter(temp_data[:,0], temp_data[:,2], color = 'red', marker='.')\n",
    "\n",
    "ax.set_xlabel(\"sepal length\", fontsize=15)\n",
    "ax.set_ylabel(\"petal length\", fontsize=15)\n",
    "ax.set_title('Iris dataset visualized in 2 features', fontsize=20)"
   ]
  },
  {
   "cell_type": "code",
   "execution_count": 82,
   "id": "f1e696f8",
   "metadata": {},
   "outputs": [],
   "source": [
    "X_train, X_test, y_train, y_test = train_test_split(X, Y, test_size=0.2, random_state=1)"
   ]
  },
  {
   "cell_type": "code",
   "execution_count": 83,
   "id": "f97c35fe",
   "metadata": {},
   "outputs": [
    {
     "name": "stdout",
     "output_type": "stream",
     "text": [
      "for Epoch 0 error = 0.0125\n",
      "for Epoch 0 error = 0.0125\n",
      "for Epoch 0 error = 0.0125\n",
      "for Epoch 0 error = 0.0125\n",
      "for Epoch 0 error = 0.025\n",
      "for Epoch 0 error = 0.0375\n",
      "for Epoch 0 error = 0.0375\n",
      "for Epoch 0 error = 0.05\n",
      "for Epoch 0 error = 0.0625\n",
      "for Epoch 0 error = 0.075\n",
      "for Epoch 0 error = 0.075\n",
      "for Epoch 0 error = 0.075\n",
      "for Epoch 0 error = 0.075\n",
      "for Epoch 0 error = 0.075\n",
      "for Epoch 0 error = 0.075\n",
      "for Epoch 0 error = 0.0875\n",
      "for Epoch 0 error = 0.1\n",
      "for Epoch 0 error = 0.1\n",
      "for Epoch 0 error = 0.1125\n",
      "for Epoch 0 error = 0.125\n",
      "for Epoch 0 error = 0.125\n",
      "for Epoch 0 error = 0.125\n",
      "for Epoch 0 error = 0.125\n",
      "for Epoch 0 error = 0.1375\n",
      "for Epoch 0 error = 0.1375\n",
      "for Epoch 0 error = 0.15\n",
      "for Epoch 0 error = 0.1625\n",
      "for Epoch 0 error = 0.1625\n",
      "for Epoch 0 error = 0.175\n",
      "for Epoch 0 error = 0.175\n",
      "for Epoch 0 error = 0.1875\n",
      "for Epoch 0 error = 0.1875\n",
      "for Epoch 0 error = 0.2\n",
      "for Epoch 0 error = 0.2125\n",
      "for Epoch 0 error = 0.2125\n",
      "for Epoch 0 error = 0.225\n",
      "for Epoch 0 error = 0.2375\n",
      "for Epoch 0 error = 0.2375\n",
      "for Epoch 0 error = 0.2375\n",
      "for Epoch 0 error = 0.2375\n",
      "for Epoch 0 error = 0.2375\n",
      "for Epoch 0 error = 0.2375\n",
      "for Epoch 0 error = 0.2375\n",
      "for Epoch 0 error = 0.2375\n",
      "for Epoch 0 error = 0.2375\n",
      "for Epoch 0 error = 0.2375\n",
      "for Epoch 0 error = 0.2375\n",
      "for Epoch 0 error = 0.2375\n",
      "for Epoch 0 error = 0.2375\n",
      "for Epoch 0 error = 0.2375\n",
      "for Epoch 0 error = 0.2375\n",
      "for Epoch 0 error = 0.2375\n",
      "for Epoch 0 error = 0.2375\n",
      "for Epoch 0 error = 0.2375\n",
      "for Epoch 0 error = 0.2375\n",
      "for Epoch 0 error = 0.2375\n",
      "for Epoch 0 error = 0.2375\n",
      "for Epoch 0 error = 0.2375\n",
      "for Epoch 0 error = 0.2375\n",
      "for Epoch 0 error = 0.2375\n",
      "for Epoch 0 error = 0.2375\n",
      "for Epoch 0 error = 0.2375\n",
      "for Epoch 0 error = 0.2375\n",
      "for Epoch 0 error = 0.2375\n",
      "for Epoch 0 error = 0.2375\n",
      "for Epoch 0 error = 0.2375\n",
      "for Epoch 0 error = 0.2375\n",
      "for Epoch 0 error = 0.2375\n",
      "for Epoch 0 error = 0.2375\n",
      "for Epoch 0 error = 0.2375\n",
      "for Epoch 0 error = 0.2375\n",
      "for Epoch 0 error = 0.2375\n",
      "for Epoch 0 error = 0.2375\n",
      "for Epoch 0 error = 0.2375\n",
      "for Epoch 0 error = 0.2375\n",
      "for Epoch 0 error = 0.2375\n",
      "for Epoch 0 error = 0.2375\n",
      "for Epoch 0 error = 0.2375\n",
      "for Epoch 0 error = 0.2375\n",
      "for Epoch 0 error = 0.2375\n",
      "for Epoch 1 error = 0.0\n",
      "for Epoch 1 error = 0.0\n",
      "for Epoch 1 error = 0.0\n",
      "for Epoch 1 error = 0.0\n",
      "for Epoch 1 error = 0.0\n",
      "for Epoch 1 error = 0.0\n",
      "for Epoch 1 error = 0.0\n",
      "for Epoch 1 error = 0.0\n",
      "for Epoch 1 error = 0.0\n",
      "for Epoch 1 error = 0.0\n",
      "for Epoch 1 error = 0.0\n",
      "for Epoch 1 error = 0.0\n",
      "for Epoch 1 error = 0.0\n",
      "for Epoch 1 error = 0.0\n",
      "for Epoch 1 error = 0.0\n",
      "for Epoch 1 error = 0.0\n",
      "for Epoch 1 error = 0.0\n",
      "for Epoch 1 error = 0.0\n",
      "for Epoch 1 error = 0.0\n",
      "for Epoch 1 error = 0.0\n",
      "for Epoch 1 error = 0.0\n",
      "for Epoch 1 error = 0.0\n",
      "for Epoch 1 error = 0.0\n",
      "for Epoch 1 error = 0.0\n",
      "for Epoch 1 error = 0.0\n",
      "for Epoch 1 error = 0.0\n",
      "for Epoch 1 error = 0.0\n",
      "for Epoch 1 error = 0.0\n",
      "for Epoch 1 error = 0.0\n",
      "for Epoch 1 error = 0.0\n",
      "for Epoch 1 error = 0.0\n",
      "for Epoch 1 error = 0.0\n",
      "for Epoch 1 error = 0.0125\n",
      "for Epoch 1 error = 0.0125\n",
      "for Epoch 1 error = 0.0125\n",
      "for Epoch 1 error = 0.0125\n",
      "for Epoch 1 error = 0.0125\n",
      "for Epoch 1 error = 0.0125\n",
      "for Epoch 1 error = 0.0125\n",
      "for Epoch 1 error = 0.0125\n",
      "for Epoch 1 error = 0.0125\n",
      "for Epoch 1 error = 0.0125\n",
      "for Epoch 1 error = 0.0125\n",
      "for Epoch 1 error = 0.0125\n",
      "for Epoch 1 error = 0.0125\n",
      "for Epoch 1 error = 0.0125\n",
      "for Epoch 1 error = 0.0125\n",
      "for Epoch 1 error = 0.0125\n",
      "for Epoch 1 error = 0.0125\n",
      "for Epoch 1 error = 0.0125\n",
      "for Epoch 1 error = 0.0125\n",
      "for Epoch 1 error = 0.0125\n",
      "for Epoch 1 error = 0.0125\n",
      "for Epoch 1 error = 0.0125\n",
      "for Epoch 1 error = 0.0125\n",
      "for Epoch 1 error = 0.0125\n",
      "for Epoch 1 error = 0.0125\n",
      "for Epoch 1 error = 0.0125\n",
      "for Epoch 1 error = 0.0125\n",
      "for Epoch 1 error = 0.0125\n",
      "for Epoch 1 error = 0.0125\n",
      "for Epoch 1 error = 0.0125\n",
      "for Epoch 1 error = 0.0125\n",
      "for Epoch 1 error = 0.0125\n",
      "for Epoch 1 error = 0.0125\n",
      "for Epoch 1 error = 0.0125\n",
      "for Epoch 1 error = 0.0125\n",
      "for Epoch 1 error = 0.0125\n",
      "for Epoch 1 error = 0.0125\n",
      "for Epoch 1 error = 0.0125\n",
      "for Epoch 1 error = 0.0125\n",
      "for Epoch 1 error = 0.0125\n",
      "for Epoch 1 error = 0.0125\n",
      "for Epoch 1 error = 0.0125\n",
      "for Epoch 1 error = 0.0125\n",
      "for Epoch 1 error = 0.0125\n",
      "for Epoch 1 error = 0.0125\n",
      "for Epoch 1 error = 0.0125\n",
      "for Epoch 1 error = 0.0125\n",
      "for Epoch 1 error = 0.0125\n"
     ]
    }
   ],
   "source": [
    "model = Perceptron(4,2, train_set_size=len(X_train))\n",
    "\n",
    "wt = model.train(X_train, y_train)"
   ]
  },
  {
   "cell_type": "code",
   "execution_count": 84,
   "id": "f406f1b5",
   "metadata": {},
   "outputs": [],
   "source": [
    "predicted = []\n",
    "for i in range(len(y_test)):\n",
    "    predicted.append(model.predict(X_test[i]))"
   ]
  },
  {
   "cell_type": "code",
   "execution_count": 85,
   "id": "e348bff8",
   "metadata": {},
   "outputs": [
    {
     "name": "stdout",
     "output_type": "stream",
     "text": [
      "[1, 1, 0, 1, 1, 0, 0, 1, 1, 1, 1, 0, 1, 1, 1, 0, 0, 0, 1, 0]\n",
      "[1 1 0 1 1 0 0 1 1 1 1 0 1 1 1 0 0 0 1 0]\n"
     ]
    }
   ],
   "source": [
    "print(predicted)\n",
    "print(y_test)"
   ]
  },
  {
   "cell_type": "code",
   "execution_count": 86,
   "id": "e5a43b5d",
   "metadata": {},
   "outputs": [
    {
     "name": "stdout",
     "output_type": "stream",
     "text": [
      "Accuracy:  1.0\n"
     ]
    }
   ],
   "source": [
    "correct_classification = 0\n",
    "for i,j in zip(y_test,predicted):\n",
    "    if i == j:\n",
    "        correct_classification+=1\n",
    "\n",
    "accuracy = correct_classification/len(predicted)\n",
    "print('Accuracy: ',accuracy)"
   ]
  },
  {
   "cell_type": "code",
   "execution_count": 87,
   "id": "b71496b7",
   "metadata": {},
   "outputs": [
    {
     "data": {
      "image/png": "[encoded data removed]",
      "text/plain": [
       "<Figure size 432x288 with 2 Axes>"
      ]
     },
     "metadata": {},
     "output_type": "display_data"
    },
    {
     "name": "stdout",
     "output_type": "stream",
     "text": [
      "Precision:  1.0\n",
      "Recall:  1.0\n",
      "Specificity:  1.0\n",
      "f1_score= 1.0\n"
     ]
    }
   ],
   "source": [
    "cf_mat = ConfusionMatrix(predicted, y_test)\n",
    "\n",
    "precision = cf_mat[0,0] / (cf_mat[0,0] + cf_mat[1,0])\n",
    "print('Precision: ',precision)\n",
    "\n",
    "recall = cf_mat[0,0] / (cf_mat[0,0] + cf_mat[0,1])\n",
    "print('Recall: ',recall)\n",
    "\n",
    "specificity= cf_mat[1,1] / (cf_mat[1,0] + cf_mat[1,1])\n",
    "print('Specificity: ',specificity)\n",
    "\n",
    "f1_score = (2 * precision * recall) / (precision + recall)\n",
    "print('f1_score=',f1_score)"
   ]
  },
  {
   "cell_type": "code",
   "execution_count": 88,
   "id": "c1bf9bb7",
   "metadata": {},
   "outputs": [
    {
     "data": {
      "image/png": "[encoded data removed]",
      "text/plain": [
       "<Figure size 432x288 with 1 Axes>"
      ]
     },
     "metadata": {},
     "output_type": "display_data"
    }
   ],
   "source": [
    "train_error = model.error\n",
    "\n",
    "plt.title(\"Error vs Iteration\")\n",
    "plt.plot(train_error, color = 'r')\n",
    "plt.xlabel(\"Number of epochs\")\n",
    "plt.ylabel(\"Error\")\n",
    "plt.show(block = True)\n"
   ]
  },
  {
   "cell_type": "code",
   "execution_count": null,
   "id": "e7e5ca50",
   "metadata": {},
   "outputs": [],
   "source": []
  }
 ],
 "metadata": {
  "kernelspec": {
   "display_name": "Python 3 (ipykernel)",
   "language": "python",
   "name": "python3"
  },
  "language_info": {
   "codemirror_mode": {
    "name": "ipython",
    "version": 3
   },
   "file_extension": ".py",
   "mimetype": "text/x-python",
   "name": "python",
   "nbconvert_exporter": "python",
   "pygments_lexer": "ipython3",
   "version": "3.9.7"
  }
 },
 "nbformat": 4,
 "nbformat_minor": 5
}
